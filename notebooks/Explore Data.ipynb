{
 "cells": [
  {
   "cell_type": "code",
   "execution_count": 6,
   "id": "e4135c5f-e28b-4598-92d6-696d2ab6e8fc",
   "metadata": {},
   "outputs": [],
   "source": [
    "import pandas as pd\n",
    "from pandas_profiling import ProfileReport"
   ]
  },
  {
   "cell_type": "code",
   "execution_count": 12,
   "id": "48eb82db-cca0-44f9-a740-08eadb303b67",
   "metadata": {},
   "outputs": [],
   "source": [
    "data = pd.read_csv('../data/training.csv')"
   ]
  },
  {
   "cell_type": "code",
   "execution_count": 10,
   "id": "9685f394-c56b-41ee-82de-79d7fed567fa",
   "metadata": {},
   "outputs": [],
   "source": [
    "profile = data.profile_report(title=\"Pandas Profiling Report\")"
   ]
  },
  {
   "cell_type": "code",
   "execution_count": null,
   "id": "8306d287-270e-44b8-9283-aa413d0d596e",
   "metadata": {},
   "outputs": [],
   "source": [
    "profile.to_file('Pandas Profiling Report.html')"
   ]
  },
  {
   "cell_type": "markdown",
   "id": "daf86626-04cd-4dd2-ac3b-014bd384e0c6",
   "metadata": {},
   "source": [
    "Reviewing this report, it appears that vehicle age, year, and various cost/price variables are highly correlated. That makes sense! There are various other correlating variable groups, as well."
   ]
  },
  {
   "cell_type": "markdown",
   "id": "31df21bf-6e32-4820-9a17-adccdd155e28",
   "metadata": {},
   "source": [
    "There are a couple variables that will be important to drop in the model:\n",
    "    - highly missing variables (drop those with >50% missing. This is arbitrary - just capturing the ones I see as issues)\n",
    "    - ID variables"
   ]
  },
  {
   "cell_type": "code",
   "execution_count": 44,
   "id": "b4c53533-1de0-4c6c-8e1b-9c0d92784a91",
   "metadata": {},
   "outputs": [
    {
     "data": {
      "text/plain": [
       "['PRIMEUNIT', 'AUCGUART']"
      ]
     },
     "execution_count": 44,
     "metadata": {},
     "output_type": "execute_result"
    }
   ],
   "source": [
    "missing_flag = data.isna().sum() > data.shape[0]*.5\n",
    "drop_cols = list(missing_flag.index[missing_flag])\n",
    "drop_cols"
   ]
  },
  {
   "cell_type": "code",
   "execution_count": 38,
   "id": "4ec49bf0-8096-4921-bf2d-ba1fca1ee9e2",
   "metadata": {},
   "outputs": [
    {
     "data": {
      "text/plain": [
       "RefId          72983\n",
       "WheelTypeID        4\n",
       "dtype: int64"
      ]
     },
     "execution_count": 38,
     "metadata": {},
     "output_type": "execute_result"
    }
   ],
   "source": [
    "data.filter(regex='ID|Id').nunique()"
   ]
  },
  {
   "cell_type": "code",
   "execution_count": 45,
   "id": "7e96a6fd-196e-48ac-9acc-0782c64d0d34",
   "metadata": {},
   "outputs": [],
   "source": [
    "drop_cols.append('RefId')"
   ]
  },
  {
   "cell_type": "code",
   "execution_count": 62,
   "id": "ce3a2c12-6bc2-4585-9430-c8e207b518f5",
   "metadata": {},
   "outputs": [
    {
     "data": {
      "text/html": [
       "<div>\n",
       "<style scoped>\n",
       "    .dataframe tbody tr th:only-of-type {\n",
       "        vertical-align: middle;\n",
       "    }\n",
       "\n",
       "    .dataframe tbody tr th {\n",
       "        vertical-align: top;\n",
       "    }\n",
       "\n",
       "    .dataframe thead th {\n",
       "        text-align: right;\n",
       "    }\n",
       "</style>\n",
       "<table border=\"1\" class=\"dataframe\">\n",
       "  <thead>\n",
       "    <tr style=\"text-align: right;\">\n",
       "      <th></th>\n",
       "      <th>WheelType</th>\n",
       "      <th>WheelTypeID</th>\n",
       "    </tr>\n",
       "  </thead>\n",
       "  <tbody>\n",
       "    <tr>\n",
       "      <th>0</th>\n",
       "      <td>Alloy</td>\n",
       "      <td>1.0</td>\n",
       "    </tr>\n",
       "    <tr>\n",
       "      <th>2</th>\n",
       "      <td>Covers</td>\n",
       "      <td>2.0</td>\n",
       "    </tr>\n",
       "    <tr>\n",
       "      <th>39</th>\n",
       "      <td>NaN</td>\n",
       "      <td>NaN</td>\n",
       "    </tr>\n",
       "    <tr>\n",
       "      <th>212</th>\n",
       "      <td>Special</td>\n",
       "      <td>3.0</td>\n",
       "    </tr>\n",
       "    <tr>\n",
       "      <th>2992</th>\n",
       "      <td>NaN</td>\n",
       "      <td>0.0</td>\n",
       "    </tr>\n",
       "  </tbody>\n",
       "</table>\n",
       "</div>"
      ],
      "text/plain": [
       "     WheelType  WheelTypeID\n",
       "0        Alloy          1.0\n",
       "2       Covers          2.0\n",
       "39         NaN          NaN\n",
       "212    Special          3.0\n",
       "2992       NaN          0.0"
      ]
     },
     "execution_count": 62,
     "metadata": {},
     "output_type": "execute_result"
    }
   ],
   "source": [
    "data[['WheelType','WheelTypeID']].drop_duplicates()"
   ]
  },
  {
   "cell_type": "code",
   "execution_count": 63,
   "id": "2887304e-a2eb-4763-b584-f35ad57e26c9",
   "metadata": {},
   "outputs": [],
   "source": [
    "drop_cols.append('WheelTypeID')"
   ]
  },
  {
   "cell_type": "code",
   "execution_count": 64,
   "id": "bbeff7f5-3608-42a9-9f12-3640c2d14c81",
   "metadata": {},
   "outputs": [
    {
     "data": {
      "text/plain": [
       "['PRIMEUNIT', 'AUCGUART', 'RefId', 'WheelTypeID']"
      ]
     },
     "execution_count": 64,
     "metadata": {},
     "output_type": "execute_result"
    }
   ],
   "source": [
    "drop_cols"
   ]
  },
  {
   "cell_type": "code",
   "execution_count": 65,
   "id": "cf7a2306-ada7-4f6a-b206-bf0a487380ae",
   "metadata": {},
   "outputs": [],
   "source": [
    "data_filtered = data.drop(drop_cols, axis = 1)"
   ]
  },
  {
   "cell_type": "markdown",
   "id": "c9f714bf-ab93-46d7-a31f-995ae376d82c",
   "metadata": {},
   "source": [
    "## IsBadBuy is slightly unbalanced"
   ]
  },
  {
   "cell_type": "code",
   "execution_count": 66,
   "id": "45d81d91-147c-4f23-af49-80aec1dea283",
   "metadata": {},
   "outputs": [
    {
     "data": {
      "text/plain": [
       "0    0.877012\n",
       "1    0.122988\n",
       "Name: IsBadBuy, dtype: float64"
      ]
     },
     "execution_count": 66,
     "metadata": {},
     "output_type": "execute_result"
    }
   ],
   "source": [
    "data_filtered['IsBadBuy'].value_counts()/data_filtered.shape[0]"
   ]
  },
  {
   "cell_type": "markdown",
   "id": "48894c70-71ec-4eff-9952-376ed9db51cc",
   "metadata": {},
   "source": [
    "## Derived variables"
   ]
  },
  {
   "cell_type": "code",
   "execution_count": 60,
   "id": "78fc83ae-e1f4-48fd-8807-558711f459eb",
   "metadata": {},
   "outputs": [
    {
     "data": {
      "text/html": [
       "<div>\n",
       "<style scoped>\n",
       "    .dataframe tbody tr th:only-of-type {\n",
       "        vertical-align: middle;\n",
       "    }\n",
       "\n",
       "    .dataframe tbody tr th {\n",
       "        vertical-align: top;\n",
       "    }\n",
       "\n",
       "    .dataframe thead th {\n",
       "        text-align: right;\n",
       "    }\n",
       "</style>\n",
       "<table border=\"1\" class=\"dataframe\">\n",
       "  <thead>\n",
       "    <tr style=\"text-align: right;\">\n",
       "      <th></th>\n",
       "      <th>PurchDate</th>\n",
       "      <th>VehYear</th>\n",
       "      <th>VehicleAge</th>\n",
       "    </tr>\n",
       "  </thead>\n",
       "  <tbody>\n",
       "    <tr>\n",
       "      <th>0</th>\n",
       "      <td>12/7/2009</td>\n",
       "      <td>2006</td>\n",
       "      <td>3</td>\n",
       "    </tr>\n",
       "    <tr>\n",
       "      <th>1</th>\n",
       "      <td>12/7/2009</td>\n",
       "      <td>2004</td>\n",
       "      <td>5</td>\n",
       "    </tr>\n",
       "    <tr>\n",
       "      <th>2</th>\n",
       "      <td>12/7/2009</td>\n",
       "      <td>2005</td>\n",
       "      <td>4</td>\n",
       "    </tr>\n",
       "    <tr>\n",
       "      <th>3</th>\n",
       "      <td>12/7/2009</td>\n",
       "      <td>2004</td>\n",
       "      <td>5</td>\n",
       "    </tr>\n",
       "    <tr>\n",
       "      <th>4</th>\n",
       "      <td>12/7/2009</td>\n",
       "      <td>2005</td>\n",
       "      <td>4</td>\n",
       "    </tr>\n",
       "    <tr>\n",
       "      <th>...</th>\n",
       "      <td>...</td>\n",
       "      <td>...</td>\n",
       "      <td>...</td>\n",
       "    </tr>\n",
       "    <tr>\n",
       "      <th>72978</th>\n",
       "      <td>12/2/2009</td>\n",
       "      <td>2001</td>\n",
       "      <td>8</td>\n",
       "    </tr>\n",
       "    <tr>\n",
       "      <th>72979</th>\n",
       "      <td>12/2/2009</td>\n",
       "      <td>2007</td>\n",
       "      <td>2</td>\n",
       "    </tr>\n",
       "    <tr>\n",
       "      <th>72980</th>\n",
       "      <td>12/2/2009</td>\n",
       "      <td>2005</td>\n",
       "      <td>4</td>\n",
       "    </tr>\n",
       "    <tr>\n",
       "      <th>72981</th>\n",
       "      <td>12/2/2009</td>\n",
       "      <td>2006</td>\n",
       "      <td>3</td>\n",
       "    </tr>\n",
       "    <tr>\n",
       "      <th>72982</th>\n",
       "      <td>12/2/2009</td>\n",
       "      <td>2006</td>\n",
       "      <td>3</td>\n",
       "    </tr>\n",
       "  </tbody>\n",
       "</table>\n",
       "<p>72983 rows × 3 columns</p>\n",
       "</div>"
      ],
      "text/plain": [
       "       PurchDate  VehYear  VehicleAge\n",
       "0      12/7/2009     2006           3\n",
       "1      12/7/2009     2004           5\n",
       "2      12/7/2009     2005           4\n",
       "3      12/7/2009     2004           5\n",
       "4      12/7/2009     2005           4\n",
       "...          ...      ...         ...\n",
       "72978  12/2/2009     2001           8\n",
       "72979  12/2/2009     2007           2\n",
       "72980  12/2/2009     2005           4\n",
       "72981  12/2/2009     2006           3\n",
       "72982  12/2/2009     2006           3\n",
       "\n",
       "[72983 rows x 3 columns]"
      ]
     },
     "execution_count": 60,
     "metadata": {},
     "output_type": "execute_result"
    }
   ],
   "source": [
    "data_filtered.filter(regex='Date|Year|Age')"
   ]
  }
 ],
 "metadata": {
  "kernelspec": {
   "display_name": "car_lemons-fFqOpegV",
   "language": "python",
   "name": "car_lemons-ffqopegv"
  },
  "language_info": {
   "codemirror_mode": {
    "name": "ipython",
    "version": 3
   },
   "file_extension": ".py",
   "mimetype": "text/x-python",
   "name": "python",
   "nbconvert_exporter": "python",
   "pygments_lexer": "ipython3",
   "version": "3.6.8"
  }
 },
 "nbformat": 4,
 "nbformat_minor": 5
}
